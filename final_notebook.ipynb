{
 "cells": [
  {
   "cell_type": "markdown",
   "metadata": {},
   "source": [
    "# Rodzina zastępcza\n",
    "<i><b>Rodzina zastępcza (eng. Foster Family) </b> was a popular Polish primetime comedy series broadcast on Polsat from 23 February 1999 to 20 December 2009. In 2004 the title was changed to Rodzina zastępcza plus (Foster Family plus) and the series got longer episodes, as well as more regular characters and locations.\n",
    "The series told the story of the Kwiatkowski family, Anka and Jacek, their biological children Majka and Filip, as well as three children they adopted one day: Eliza, Zosia, Romek, later also Dorotka, Wojtek, Piotrek and Pawełek. </i>\n",
    "![Photo](https://m.media-amazon.com/images/M/MV5BMjFiMDQ0MDAtMTZlOS00ZmM1LTgyNjItNjY4ZGZkN2YzMTdjXkEyXkFqcGdeQXVyMTc4MzI2NQ@@._V1_.jpg)"
   ]
  }
 ],
 "metadata": {
  "language_info": {
   "name": "python"
  }
 },
 "nbformat": 4,
 "nbformat_minor": 2
}
